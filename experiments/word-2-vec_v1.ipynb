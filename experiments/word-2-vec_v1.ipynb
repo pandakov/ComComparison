{
 "cells": [
  {
   "cell_type": "code",
   "execution_count": 16,
   "id": "0518933d-15ca-45b7-88f3-a37ae0655539",
   "metadata": {},
   "outputs": [],
   "source": [
    "import pandas as pd\n",
    "import numpy as np\n",
    "import sklearn\n",
    "from sklearn.model_selection import train_test_split\n",
    "from sklearn.linear_model import LogisticRegression\n",
    "from sklearn.model_selection import cross_val_score, StratifiedKFold\n",
    "from scipy.sparse import  hstack\n",
    "from sklearn.metrics import f1_score\n",
    "from sklearn.metrics import roc_auc_score\n",
    "import re\n",
    "from sklearn.metrics.pairwise import cosine_similarity\n",
    "\n",
    "import nltk\n",
    "from nltk.tokenize import word_tokenize\n",
    "import gensim\n",
    "from gensim.models import Word2Vec"
   ]
  },
  {
   "cell_type": "code",
   "execution_count": 17,
   "id": "cc3627b3-102b-4f0a-9123-355ceed501cb",
   "metadata": {},
   "outputs": [
    {
     "name": "stderr",
     "output_type": "stream",
     "text": [
      "[nltk_data] Downloading package punkt to /Users/admin_i/nltk_data...\n",
      "[nltk_data]   Unzipping tokenizers/punkt.zip.\n"
     ]
    },
    {
     "data": {
      "text/plain": [
       "True"
      ]
     },
     "execution_count": 17,
     "metadata": {},
     "output_type": "execute_result"
    }
   ],
   "source": [
    "nltk.download('punkt')"
   ]
  },
  {
   "cell_type": "code",
   "execution_count": 4,
   "id": "ebe76f61-bb6a-4a57-8e09-5ad1ee9410a6",
   "metadata": {},
   "outputs": [],
   "source": [
    "df = pd.read_csv('../data/train.csv',index_col = 0)"
   ]
  },
  {
   "cell_type": "code",
   "execution_count": 6,
   "id": "919753de-570b-4d66-a057-3dcdb01478e7",
   "metadata": {},
   "outputs": [],
   "source": [
    "df['name_1'] = df['name_1'].apply(lambda x: re.sub(r'[^\\w\\s]', ' ', x)).apply(\n",
    "    lambda x: re.sub(r' +', ' ', x).lower())\n",
    "df['name_2'] = df['name_2'].apply(lambda x: re.sub(r'[^\\w\\s]', ' ', x)).apply(\n",
    "    lambda x: re.sub(r' +', ' ', x).lower())"
   ]
  },
  {
   "cell_type": "code",
   "execution_count": 7,
   "id": "f4628f88-fad7-467e-930f-a471d9b302d4",
   "metadata": {},
   "outputs": [
    {
     "data": {
      "text/html": [
       "<div>\n",
       "<style scoped>\n",
       "    .dataframe tbody tr th:only-of-type {\n",
       "        vertical-align: middle;\n",
       "    }\n",
       "\n",
       "    .dataframe tbody tr th {\n",
       "        vertical-align: top;\n",
       "    }\n",
       "\n",
       "    .dataframe thead th {\n",
       "        text-align: right;\n",
       "    }\n",
       "</style>\n",
       "<table border=\"1\" class=\"dataframe\">\n",
       "  <thead>\n",
       "    <tr style=\"text-align: right;\">\n",
       "      <th></th>\n",
       "      <th>name_1</th>\n",
       "      <th>name_2</th>\n",
       "      <th>is_duplicate</th>\n",
       "    </tr>\n",
       "    <tr>\n",
       "      <th>pair_id</th>\n",
       "      <th></th>\n",
       "      <th></th>\n",
       "      <th></th>\n",
       "    </tr>\n",
       "  </thead>\n",
       "  <tbody>\n",
       "    <tr>\n",
       "      <th>1</th>\n",
       "      <td>iko industries ltd</td>\n",
       "      <td>enormous industrial trade pvt ltd</td>\n",
       "      <td>0</td>\n",
       "    </tr>\n",
       "    <tr>\n",
       "      <th>2</th>\n",
       "      <td>apcotex industries ltd</td>\n",
       "      <td>technocraft industries india ltd</td>\n",
       "      <td>0</td>\n",
       "    </tr>\n",
       "    <tr>\n",
       "      <th>3</th>\n",
       "      <td>rishichem distributors pvt ltd</td>\n",
       "      <td>dsa</td>\n",
       "      <td>0</td>\n",
       "    </tr>\n",
       "    <tr>\n",
       "      <th>4</th>\n",
       "      <td>powermax rubber factory</td>\n",
       "      <td>co one</td>\n",
       "      <td>0</td>\n",
       "    </tr>\n",
       "    <tr>\n",
       "      <th>5</th>\n",
       "      <td>tress a s</td>\n",
       "      <td>longyou industries park zhejiang</td>\n",
       "      <td>0</td>\n",
       "    </tr>\n",
       "    <tr>\n",
       "      <th>...</th>\n",
       "      <td>...</td>\n",
       "      <td>...</td>\n",
       "      <td>...</td>\n",
       "    </tr>\n",
       "    <tr>\n",
       "      <th>497815</th>\n",
       "      <td>bit mat products</td>\n",
       "      <td>the goodyear tire and rubber company</td>\n",
       "      <td>0</td>\n",
       "    </tr>\n",
       "    <tr>\n",
       "      <th>497816</th>\n",
       "      <td>bnd trading co ltd</td>\n",
       "      <td>zhong shan yue liang economy trade imp exp co ...</td>\n",
       "      <td>0</td>\n",
       "    </tr>\n",
       "    <tr>\n",
       "      <th>497817</th>\n",
       "      <td>xeikon industrial co ltd of dongguan city</td>\n",
       "      <td>yi cheng trading co ltd of dongguan city</td>\n",
       "      <td>0</td>\n",
       "    </tr>\n",
       "    <tr>\n",
       "      <th>497818</th>\n",
       "      <td>shanghai kechuan trading co ltd</td>\n",
       "      <td>shanghai m g stationery inc</td>\n",
       "      <td>0</td>\n",
       "    </tr>\n",
       "    <tr>\n",
       "      <th>497819</th>\n",
       "      <td>dih wei industries co</td>\n",
       "      <td>burlington industries corporate</td>\n",
       "      <td>0</td>\n",
       "    </tr>\n",
       "  </tbody>\n",
       "</table>\n",
       "<p>497819 rows × 3 columns</p>\n",
       "</div>"
      ],
      "text/plain": [
       "                                            name_1  \\\n",
       "pair_id                                              \n",
       "1                              iko industries ltd    \n",
       "2                          apcotex industries ltd    \n",
       "3                  rishichem distributors pvt ltd    \n",
       "4                          powermax rubber factory   \n",
       "5                                        tress a s   \n",
       "...                                            ...   \n",
       "497815                            bit mat products   \n",
       "497816                         bnd trading co ltd    \n",
       "497817   xeikon industrial co ltd of dongguan city   \n",
       "497818            shanghai kechuan trading co ltd    \n",
       "497819                      dih wei industries co    \n",
       "\n",
       "                                                    name_2  is_duplicate  \n",
       "pair_id                                                                   \n",
       "1                       enormous industrial trade pvt ltd              0  \n",
       "2                        technocraft industries india ltd              0  \n",
       "3                                                      dsa             0  \n",
       "4                                                   co one             0  \n",
       "5                         longyou industries park zhejiang             0  \n",
       "...                                                    ...           ...  \n",
       "497815                the goodyear tire and rubber company             0  \n",
       "497816   zhong shan yue liang economy trade imp exp co ...             0  \n",
       "497817            yi cheng trading co ltd of dongguan city             0  \n",
       "497818                        shanghai m g stationery inc              0  \n",
       "497819                     burlington industries corporate             0  \n",
       "\n",
       "[497819 rows x 3 columns]"
      ]
     },
     "execution_count": 7,
     "metadata": {},
     "output_type": "execute_result"
    }
   ],
   "source": [
    "df"
   ]
  },
  {
   "cell_type": "code",
   "execution_count": 10,
   "id": "5e657d2a-861d-4a13-b3c0-5358c97c0578",
   "metadata": {},
   "outputs": [],
   "source": [
    "def get_tokenize_sentence(sent):\n",
    "    data = []\n",
    "    for i in word_tokenize(sent):\n",
    "        data.append(i.lower()) \n",
    "    return data"
   ]
  },
  {
   "cell_type": "code",
   "execution_count": 18,
   "id": "a6ac8a87-e9db-4981-8144-6a34b6cbc36a",
   "metadata": {},
   "outputs": [],
   "source": [
    "name_1_sentences = df['name_1'].apply(lambda x: get_tokenize_sentence(x))"
   ]
  },
  {
   "cell_type": "code",
   "execution_count": 22,
   "id": "e3b58ee7-8a2f-4bea-8ad6-f3c478374cba",
   "metadata": {},
   "outputs": [],
   "source": [
    "name_2_sentences = df['name_2'].apply(lambda x: get_tokenize_sentence(x))"
   ]
  },
  {
   "cell_type": "code",
   "execution_count": 34,
   "id": "3386c750-d52e-4035-ac18-2cfb900aaf33",
   "metadata": {},
   "outputs": [],
   "source": [
    "word_2_vec_model = gensim.models.Word2Vec([*name_1_sentences.to_list(),\n",
    "                                           *name_2_sentences.to_list()],\n",
    "                                          min_count = 1,vector_size = 150,\n",
    "                                          window = 5, epochs = 10)"
   ]
  },
  {
   "cell_type": "code",
   "execution_count": 48,
   "id": "71e300e3-9453-4ae2-a439-b60f64b085ce",
   "metadata": {},
   "outputs": [],
   "source": [
    "vocab_w2v = list(word_2_vec_model.wv.index_to_key)"
   ]
  },
  {
   "cell_type": "code",
   "execution_count": 67,
   "id": "fda2d26c-597b-4eee-91b0-bed9c6ea4253",
   "metadata": {},
   "outputs": [],
   "source": [
    "def sent_vector(sent):\n",
    "    sent = [word for word in sent if word in vocab_w2v]\n",
    "    return np.mean(word_2_vec_model.wv[sent], axis=0)"
   ]
  },
  {
   "cell_type": "code",
   "execution_count": 68,
   "id": "04992245-946e-4abe-b916-f1032da182dc",
   "metadata": {},
   "outputs": [],
   "source": [
    "X_1 = [sent_vector(sent) for sent in name_1_sentences.to_list()]"
   ]
  },
  {
   "cell_type": "code",
   "execution_count": 69,
   "id": "ea1733a1-a06f-4776-aefb-bcaec891a27f",
   "metadata": {},
   "outputs": [],
   "source": [
    "X_2 = [sent_vector(sent) for sent in name_2_sentences.to_list()]"
   ]
  },
  {
   "cell_type": "code",
   "execution_count": 83,
   "id": "0ffb5cd2-8c9f-48fc-ba84-b6e88838ae92",
   "metadata": {},
   "outputs": [],
   "source": [
    "X = np.hstack([np.array(X_1),np.array(X_2)])\n",
    "y = df['is_duplicate'].values"
   ]
  },
  {
   "cell_type": "code",
   "execution_count": 84,
   "id": "8673a89b-f8ed-4c74-b319-7c6cc3471541",
   "metadata": {},
   "outputs": [],
   "source": [
    "X_train, X_test, y_train, y_test = train_test_split(X, y, test_size=0.25, \n",
    "                                                    random_state=42, stratify = df['is_duplicate'])"
   ]
  },
  {
   "cell_type": "code",
   "execution_count": 87,
   "id": "f1a70963-f18d-432a-9b1a-caf1dd8cd350",
   "metadata": {},
   "outputs": [],
   "source": [
    "logit = LogisticRegression(random_state=42, n_jobs=4)"
   ]
  },
  {
   "cell_type": "code",
   "execution_count": null,
   "id": "945574ca-1f63-4d9b-9453-7e9e8bb7e671",
   "metadata": {},
   "outputs": [],
   "source": [
    "logit.fit(X_train, y_train)\n",
    "test_preds = logit.predict(X_test)\n",
    "test_preds_proba = logit.predict_proba(X_test)"
   ]
  },
  {
   "cell_type": "code",
   "execution_count": 99,
   "id": "51ef2e9f-b325-42a7-a461-52cc6ab1d35c",
   "metadata": {},
   "outputs": [],
   "source": [
    "def get_metrics(predict, proba, target):\n",
    "    print(f\"f1: {f1_score(target, predict)}\")\n",
    "    print(f\"f1 macro: {f1_score(target, predict,average = 'macro')}\")\n",
    "    print(f\"recall: {sklearn.metrics.recall_score(target, predict)}\")\n",
    "    print(f\"roc auc :{sklearn.metrics.roc_auc_score(target, proba[:,1])}\")"
   ]
  },
  {
   "cell_type": "code",
   "execution_count": 100,
   "id": "ced9823a-9569-40e4-8cd3-83f281c2ccb7",
   "metadata": {},
   "outputs": [
    {
     "name": "stdout",
     "output_type": "stream",
     "text": [
      "f1: 0.42719999999999997\n",
      "f1 macro: 0.7121544698376806\n",
      "recall: 0.29180327868852457\n",
      "roc auc :0.9397153993618137\n"
     ]
    }
   ],
   "source": [
    "get_metrics(test_preds,test_preds_proba,y_test)"
   ]
  },
  {
   "cell_type": "code",
   "execution_count": null,
   "id": "8952528b-cedd-4735-9263-8949c60c5c25",
   "metadata": {},
   "outputs": [],
   "source": []
  }
 ],
 "metadata": {
  "kernelspec": {
   "display_name": "Python 3 (ipykernel)",
   "language": "python",
   "name": "python3"
  },
  "language_info": {
   "codemirror_mode": {
    "name": "ipython",
    "version": 3
   },
   "file_extension": ".py",
   "mimetype": "text/x-python",
   "name": "python",
   "nbconvert_exporter": "python",
   "pygments_lexer": "ipython3",
   "version": "3.9.7"
  }
 },
 "nbformat": 4,
 "nbformat_minor": 5
}
