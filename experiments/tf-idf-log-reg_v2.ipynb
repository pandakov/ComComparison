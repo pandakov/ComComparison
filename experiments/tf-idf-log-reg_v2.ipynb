{
 "cells": [
  {
   "cell_type": "code",
   "execution_count": 255,
   "id": "eeb35e83-c790-4f57-97d7-95bfe9532049",
   "metadata": {},
   "outputs": [],
   "source": [
    "import pandas as pd\n",
    "import numpy as np\n",
    "import sklearn\n",
    "from sklearn.model_selection import train_test_split\n",
    "from sklearn.feature_extraction.text import TfidfVectorizer\n",
    "from sklearn.linear_model import LogisticRegression\n",
    "from sklearn.model_selection import cross_val_score, StratifiedKFold\n",
    "from scipy.sparse import  hstack\n",
    "from sklearn.metrics import f1_score\n",
    "from sklearn.metrics import roc_auc_score\n",
    "import re\n",
    "from sklearn.metrics.pairwise import cosine_similarity"
   ]
  },
  {
   "cell_type": "code",
   "execution_count": 256,
   "id": "ba700d19-25a4-47c7-96f9-8a424f3404b4",
   "metadata": {},
   "outputs": [],
   "source": [
    "df = pd.read_csv('../data/train.csv',index_col = 0)"
   ]
  },
  {
   "cell_type": "code",
   "execution_count": 257,
   "id": "2a9e2014-c0d8-4096-ab61-0a21ff6f7569",
   "metadata": {},
   "outputs": [
    {
     "data": {
      "text/html": [
       "<div>\n",
       "<style scoped>\n",
       "    .dataframe tbody tr th:only-of-type {\n",
       "        vertical-align: middle;\n",
       "    }\n",
       "\n",
       "    .dataframe tbody tr th {\n",
       "        vertical-align: top;\n",
       "    }\n",
       "\n",
       "    .dataframe thead th {\n",
       "        text-align: right;\n",
       "    }\n",
       "</style>\n",
       "<table border=\"1\" class=\"dataframe\">\n",
       "  <thead>\n",
       "    <tr style=\"text-align: right;\">\n",
       "      <th></th>\n",
       "      <th>name_1</th>\n",
       "      <th>name_2</th>\n",
       "      <th>is_duplicate</th>\n",
       "    </tr>\n",
       "    <tr>\n",
       "      <th>pair_id</th>\n",
       "      <th></th>\n",
       "      <th></th>\n",
       "      <th></th>\n",
       "    </tr>\n",
       "  </thead>\n",
       "  <tbody>\n",
       "    <tr>\n",
       "      <th>1</th>\n",
       "      <td>Iko Industries Ltd.</td>\n",
       "      <td>Enormous Industrial Trade Pvt., Ltd.</td>\n",
       "      <td>0</td>\n",
       "    </tr>\n",
       "    <tr>\n",
       "      <th>2</th>\n",
       "      <td>Apcotex Industries Ltd.</td>\n",
       "      <td>Technocraft Industries (India) Ltd.</td>\n",
       "      <td>0</td>\n",
       "    </tr>\n",
       "    <tr>\n",
       "      <th>3</th>\n",
       "      <td>Rishichem Distributors Pvt., Ltd.</td>\n",
       "      <td>Dsa</td>\n",
       "      <td>0</td>\n",
       "    </tr>\n",
       "    <tr>\n",
       "      <th>4</th>\n",
       "      <td>Powermax Rubber Factory</td>\n",
       "      <td>Co. One</td>\n",
       "      <td>0</td>\n",
       "    </tr>\n",
       "    <tr>\n",
       "      <th>5</th>\n",
       "      <td>Tress A/S</td>\n",
       "      <td>Longyou Industries Park Zhejiang</td>\n",
       "      <td>0</td>\n",
       "    </tr>\n",
       "    <tr>\n",
       "      <th>...</th>\n",
       "      <td>...</td>\n",
       "      <td>...</td>\n",
       "      <td>...</td>\n",
       "    </tr>\n",
       "    <tr>\n",
       "      <th>497815</th>\n",
       "      <td>BIT-MAT PRODUCTS</td>\n",
       "      <td>The Goodyear Tire and Rubber Company</td>\n",
       "      <td>0</td>\n",
       "    </tr>\n",
       "    <tr>\n",
       "      <th>497816</th>\n",
       "      <td>Bnd Trading Co., Ltd.</td>\n",
       "      <td>Zhong Shan Yue Liang Economy&amp; Trade Imp. &amp; Exp...</td>\n",
       "      <td>0</td>\n",
       "    </tr>\n",
       "    <tr>\n",
       "      <th>497817</th>\n",
       "      <td>Xeikon Industrial Co., Ltd. Of Dongguan City</td>\n",
       "      <td>Yi Cheng Trading Co., Ltd. Of Dongguan City</td>\n",
       "      <td>0</td>\n",
       "    </tr>\n",
       "    <tr>\n",
       "      <th>497818</th>\n",
       "      <td>Shanghai Kechuan Trading Co., Ltd.</td>\n",
       "      <td>Shanghai M&amp;G Stationery Inc.</td>\n",
       "      <td>0</td>\n",
       "    </tr>\n",
       "    <tr>\n",
       "      <th>497819</th>\n",
       "      <td>Dih Wei Industries Co.</td>\n",
       "      <td>Burlington Industries Corporate</td>\n",
       "      <td>0</td>\n",
       "    </tr>\n",
       "  </tbody>\n",
       "</table>\n",
       "<p>497819 rows × 3 columns</p>\n",
       "</div>"
      ],
      "text/plain": [
       "                                               name_1  \\\n",
       "pair_id                                                 \n",
       "1                                 Iko Industries Ltd.   \n",
       "2                             Apcotex Industries Ltd.   \n",
       "3                   Rishichem Distributors Pvt., Ltd.   \n",
       "4                             Powermax Rubber Factory   \n",
       "5                                           Tress A/S   \n",
       "...                                               ...   \n",
       "497815                               BIT-MAT PRODUCTS   \n",
       "497816                          Bnd Trading Co., Ltd.   \n",
       "497817   Xeikon Industrial Co., Ltd. Of Dongguan City   \n",
       "497818             Shanghai Kechuan Trading Co., Ltd.   \n",
       "497819                         Dih Wei Industries Co.   \n",
       "\n",
       "                                                    name_2  is_duplicate  \n",
       "pair_id                                                                   \n",
       "1                     Enormous Industrial Trade Pvt., Ltd.             0  \n",
       "2                      Technocraft Industries (India) Ltd.             0  \n",
       "3                                                      Dsa             0  \n",
       "4                                                  Co. One             0  \n",
       "5                         Longyou Industries Park Zhejiang             0  \n",
       "...                                                    ...           ...  \n",
       "497815                The Goodyear Tire and Rubber Company             0  \n",
       "497816   Zhong Shan Yue Liang Economy& Trade Imp. & Exp...             0  \n",
       "497817         Yi Cheng Trading Co., Ltd. Of Dongguan City             0  \n",
       "497818                        Shanghai M&G Stationery Inc.             0  \n",
       "497819                     Burlington Industries Corporate             0  \n",
       "\n",
       "[497819 rows x 3 columns]"
      ]
     },
     "execution_count": 257,
     "metadata": {},
     "output_type": "execute_result"
    }
   ],
   "source": [
    "df "
   ]
  },
  {
   "cell_type": "markdown",
   "id": "242611d9-7217-4096-9d00-1f5861aa91bd",
   "metadata": {},
   "source": [
    "## Чистка Датасета"
   ]
  },
  {
   "cell_type": "code",
   "execution_count": 258,
   "id": "24e7958c-e764-4b32-b98c-b3ff9397a6ad",
   "metadata": {},
   "outputs": [],
   "source": [
    "df['name_1'] = df['name_1'].apply(lambda x: re.sub(r'[^\\w\\s]', ' ', x)).apply(\n",
    "    lambda x: re.sub(r' +', ' ', x).lower())\n",
    "df['name_2'] = df['name_2'].apply(lambda x: re.sub(r'[^\\w\\s]', ' ', x)).apply(\n",
    "    lambda x: re.sub(r' +', ' ', x).lower())"
   ]
  },
  {
   "cell_type": "code",
   "execution_count": 259,
   "id": "d0cfc4d0-1faa-4de4-a461-4d48a6f66fe6",
   "metadata": {},
   "outputs": [
    {
     "data": {
      "text/html": [
       "<div>\n",
       "<style scoped>\n",
       "    .dataframe tbody tr th:only-of-type {\n",
       "        vertical-align: middle;\n",
       "    }\n",
       "\n",
       "    .dataframe tbody tr th {\n",
       "        vertical-align: top;\n",
       "    }\n",
       "\n",
       "    .dataframe thead th {\n",
       "        text-align: right;\n",
       "    }\n",
       "</style>\n",
       "<table border=\"1\" class=\"dataframe\">\n",
       "  <thead>\n",
       "    <tr style=\"text-align: right;\">\n",
       "      <th></th>\n",
       "      <th>name_1</th>\n",
       "      <th>name_2</th>\n",
       "      <th>is_duplicate</th>\n",
       "    </tr>\n",
       "    <tr>\n",
       "      <th>pair_id</th>\n",
       "      <th></th>\n",
       "      <th></th>\n",
       "      <th></th>\n",
       "    </tr>\n",
       "  </thead>\n",
       "  <tbody>\n",
       "    <tr>\n",
       "      <th>1</th>\n",
       "      <td>iko industries ltd</td>\n",
       "      <td>enormous industrial trade pvt ltd</td>\n",
       "      <td>0</td>\n",
       "    </tr>\n",
       "    <tr>\n",
       "      <th>2</th>\n",
       "      <td>apcotex industries ltd</td>\n",
       "      <td>technocraft industries india ltd</td>\n",
       "      <td>0</td>\n",
       "    </tr>\n",
       "    <tr>\n",
       "      <th>3</th>\n",
       "      <td>rishichem distributors pvt ltd</td>\n",
       "      <td>dsa</td>\n",
       "      <td>0</td>\n",
       "    </tr>\n",
       "    <tr>\n",
       "      <th>4</th>\n",
       "      <td>powermax rubber factory</td>\n",
       "      <td>co one</td>\n",
       "      <td>0</td>\n",
       "    </tr>\n",
       "    <tr>\n",
       "      <th>5</th>\n",
       "      <td>tress a s</td>\n",
       "      <td>longyou industries park zhejiang</td>\n",
       "      <td>0</td>\n",
       "    </tr>\n",
       "    <tr>\n",
       "      <th>...</th>\n",
       "      <td>...</td>\n",
       "      <td>...</td>\n",
       "      <td>...</td>\n",
       "    </tr>\n",
       "    <tr>\n",
       "      <th>497815</th>\n",
       "      <td>bit mat products</td>\n",
       "      <td>the goodyear tire and rubber company</td>\n",
       "      <td>0</td>\n",
       "    </tr>\n",
       "    <tr>\n",
       "      <th>497816</th>\n",
       "      <td>bnd trading co ltd</td>\n",
       "      <td>zhong shan yue liang economy trade imp exp co ...</td>\n",
       "      <td>0</td>\n",
       "    </tr>\n",
       "    <tr>\n",
       "      <th>497817</th>\n",
       "      <td>xeikon industrial co ltd of dongguan city</td>\n",
       "      <td>yi cheng trading co ltd of dongguan city</td>\n",
       "      <td>0</td>\n",
       "    </tr>\n",
       "    <tr>\n",
       "      <th>497818</th>\n",
       "      <td>shanghai kechuan trading co ltd</td>\n",
       "      <td>shanghai m g stationery inc</td>\n",
       "      <td>0</td>\n",
       "    </tr>\n",
       "    <tr>\n",
       "      <th>497819</th>\n",
       "      <td>dih wei industries co</td>\n",
       "      <td>burlington industries corporate</td>\n",
       "      <td>0</td>\n",
       "    </tr>\n",
       "  </tbody>\n",
       "</table>\n",
       "<p>497819 rows × 3 columns</p>\n",
       "</div>"
      ],
      "text/plain": [
       "                                            name_1  \\\n",
       "pair_id                                              \n",
       "1                              iko industries ltd    \n",
       "2                          apcotex industries ltd    \n",
       "3                  rishichem distributors pvt ltd    \n",
       "4                          powermax rubber factory   \n",
       "5                                        tress a s   \n",
       "...                                            ...   \n",
       "497815                            bit mat products   \n",
       "497816                         bnd trading co ltd    \n",
       "497817   xeikon industrial co ltd of dongguan city   \n",
       "497818            shanghai kechuan trading co ltd    \n",
       "497819                      dih wei industries co    \n",
       "\n",
       "                                                    name_2  is_duplicate  \n",
       "pair_id                                                                   \n",
       "1                       enormous industrial trade pvt ltd              0  \n",
       "2                        technocraft industries india ltd              0  \n",
       "3                                                      dsa             0  \n",
       "4                                                   co one             0  \n",
       "5                         longyou industries park zhejiang             0  \n",
       "...                                                    ...           ...  \n",
       "497815                the goodyear tire and rubber company             0  \n",
       "497816   zhong shan yue liang economy trade imp exp co ...             0  \n",
       "497817            yi cheng trading co ltd of dongguan city             0  \n",
       "497818                        shanghai m g stationery inc              0  \n",
       "497819                     burlington industries corporate             0  \n",
       "\n",
       "[497819 rows x 3 columns]"
      ]
     },
     "execution_count": 259,
     "metadata": {},
     "output_type": "execute_result"
    }
   ],
   "source": [
    "df"
   ]
  },
  {
   "cell_type": "code",
   "execution_count": 260,
   "id": "5b92b29a-c533-4eea-90e4-e4c067077b01",
   "metadata": {},
   "outputs": [
    {
     "data": {
      "text/plain": [
       "name_1          0\n",
       "name_2          0\n",
       "is_duplicate    0\n",
       "dtype: int64"
      ]
     },
     "execution_count": 260,
     "metadata": {},
     "output_type": "execute_result"
    }
   ],
   "source": [
    "df.isna().sum(axis = 0)"
   ]
  },
  {
   "cell_type": "markdown",
   "id": "887ad93e-3ab6-4166-b239-ec69d8cb85b1",
   "metadata": {},
   "source": [
    "## First try"
   ]
  },
  {
   "cell_type": "code",
   "execution_count": 261,
   "id": "73ac5f9d-e51f-4134-b5e3-2b85a8a8d500",
   "metadata": {},
   "outputs": [],
   "source": [
    "X_train, X_test, y_train, y_test = train_test_split(df[['name_1','name_2']], df['is_duplicate'], test_size=0.25, \n",
    "                                                    random_state=42, stratify = df['is_duplicate'])"
   ]
  },
  {
   "cell_type": "code",
   "execution_count": 262,
   "id": "a2455970-2add-4e18-91ac-52455b1a0a67",
   "metadata": {},
   "outputs": [],
   "source": [
    "text_transformer = TfidfVectorizer()"
   ]
  },
  {
   "cell_type": "code",
   "execution_count": 263,
   "id": "05183cc1-ce15-423a-a652-7b65f4f6cc8d",
   "metadata": {},
   "outputs": [],
   "source": [
    "X_train_text = text_transformer.fit_transform([*X_train['name_1'].to_list(),*X_train['name_1'].to_list()])\n",
    "X_test_text = text_transformer.transform([*X_test['name_1'].to_list(),*X_test['name_1'].to_list()])"
   ]
  },
  {
   "cell_type": "code",
   "execution_count": 264,
   "id": "1bcc9b0d-ec3b-4ef8-8772-7edccbbbd1c8",
   "metadata": {},
   "outputs": [
    {
     "data": {
      "text/plain": [
       "((746728, 16076), (248910, 16076))"
      ]
     },
     "execution_count": 264,
     "metadata": {},
     "output_type": "execute_result"
    }
   ],
   "source": [
    "X_train_text.shape, X_test_text.shape"
   ]
  },
  {
   "cell_type": "code",
   "execution_count": 265,
   "id": "0d7278ba-5e86-4e48-93dd-576d5ce0eb7d",
   "metadata": {},
   "outputs": [
    {
     "data": {
      "text/plain": [
       "((373364, 2), (124455,))"
      ]
     },
     "execution_count": 265,
     "metadata": {},
     "output_type": "execute_result"
    }
   ],
   "source": [
    "X_train.shape, y_test.shape"
   ]
  },
  {
   "cell_type": "code",
   "execution_count": 266,
   "id": "0819f859-50e9-461a-af66-aa37d7ce3671",
   "metadata": {},
   "outputs": [],
   "source": [
    "X_train_s = hstack([X_train_text[0:373364],X_train_text[373364:]])\n",
    "X_test_s = hstack([X_test_text[0:124455],X_test_text[124455:]])"
   ]
  },
  {
   "cell_type": "code",
   "execution_count": null,
   "id": "2e85fa0e-4d9b-484f-b88c-f0cc0c1a5a1e",
   "metadata": {},
   "outputs": [],
   "source": [
    "logit = LogisticRegression(C=5e1, solver='lbfgs', multi_class='ovr', random_state=42, n_jobs=4)\n",
    "skf = StratifiedKFold(n_splits=5, shuffle=True, random_state=42)\n",
    "cv_results = cross_val_score(logit, X_train_s, y_train, cv=skf, scoring='f1')"
   ]
  },
  {
   "cell_type": "code",
   "execution_count": 268,
   "id": "b37e60ee-ca86-496c-adfc-1126c1ff8223",
   "metadata": {},
   "outputs": [
    {
     "data": {
      "text/plain": [
       "(array([0.40613027, 0.36526181, 0.35263835, 0.35643564, 0.37305699]),\n",
       " 0.3707046145516542)"
      ]
     },
     "execution_count": 268,
     "metadata": {},
     "output_type": "execute_result"
    }
   ],
   "source": [
    "cv_results,cv_results.mean()"
   ]
  },
  {
   "cell_type": "code",
   "execution_count": null,
   "id": "45f48e52-6869-4c98-87b4-ee4c21a41d53",
   "metadata": {},
   "outputs": [],
   "source": [
    "logit.fit(X_train_s, y_train)\n",
    "test_preds = logit.predict(X_test_s)\n",
    "test_preds_proba = logit.predict_proba(X_test_s)"
   ]
  },
  {
   "cell_type": "code",
   "execution_count": 279,
   "id": "e64a5223-8b70-4dbf-9108-c832e2d479f6",
   "metadata": {},
   "outputs": [],
   "source": [
    "def get_metrics(predict, proba, target):\n",
    "    print(f\"f1: {f1_score(target, predict)}\")\n",
    "    print(f\"f1 macro: {f1_score(target, predict,average = 'macro')}\")\n",
    "    print(f\"recall: {sklearn.metrics.recall_score(target, predict)}\")\n",
    "    print(f\"roc auc :{sklearn.metrics.roc_auc_score(target, proba[:,1])}\")"
   ]
  },
  {
   "cell_type": "code",
   "execution_count": 280,
   "id": "5d64b6d4-2cc1-4f77-bb9a-9a2116f24dde",
   "metadata": {},
   "outputs": [
    {
     "name": "stdout",
     "output_type": "stream",
     "text": [
      "f1: 0.4012204424103737\n",
      "f1 macro: 0.6990249967091267\n",
      "recall: 0.28743169398907104\n",
      "roc auc :0.9648987164618259\n"
     ]
    }
   ],
   "source": [
    "get_metrics(test_preds,test_preds_proba,y_test)"
   ]
  },
  {
   "cell_type": "markdown",
   "id": "e631b819-c375-4999-8cbb-7bce6a77c293",
   "metadata": {},
   "source": [
    "## Конкатенация"
   ]
  },
  {
   "cell_type": "code",
   "execution_count": 272,
   "id": "70cb8a19-6f6a-4546-a1ee-9d1c7cf279a0",
   "metadata": {},
   "outputs": [],
   "source": [
    "df['glu'] = df['name_1'] + ' ' + df['name_2']"
   ]
  },
  {
   "cell_type": "code",
   "execution_count": 273,
   "id": "f2624535-5aa5-4f4b-82d1-a042354a2aaf",
   "metadata": {},
   "outputs": [],
   "source": [
    "X_train, X_test, y_train, y_test = train_test_split(df[['glu']], df['is_duplicate'], test_size=0.25, \n",
    "                                                    random_state=42, stratify = df['is_duplicate'])\n",
    "# text_transformer = TfidfVectorizer(stop_words='english', ngram_range=(1, 2), lowercase=True, max_features=150000)\n",
    "text_transformer = TfidfVectorizer()\n",
    "X_train_text = text_transformer.fit_transform(X_train['glu'])\n",
    "X_test_text = text_transformer.transform(X_test['glu'])"
   ]
  },
  {
   "cell_type": "code",
   "execution_count": null,
   "id": "d44baa5e-581d-4cf3-b63d-4721e611900d",
   "metadata": {},
   "outputs": [],
   "source": [
    "logit = LogisticRegression(C=5e1, solver='lbfgs', multi_class='ovr', random_state=42, n_jobs=4)\n",
    "skf = StratifiedKFold(n_splits=5, shuffle=True, random_state=42)\n",
    "cv_results = cross_val_score(logit, X_train_text, y_train, cv=skf, scoring='f1')"
   ]
  },
  {
   "cell_type": "code",
   "execution_count": 275,
   "id": "a9c1f573-f9c6-4b92-a16f-e9519cd7a42b",
   "metadata": {},
   "outputs": [
    {
     "data": {
      "text/plain": [
       "(array([0.76120959, 0.77372263, 0.77522478, 0.72502575, 0.76131687]),\n",
       " 0.7592999230738603)"
      ]
     },
     "execution_count": 275,
     "metadata": {},
     "output_type": "execute_result"
    }
   ],
   "source": [
    "cv_results, cv_results.mean()"
   ]
  },
  {
   "cell_type": "code",
   "execution_count": null,
   "id": "61b3c1ef-5944-4e3d-a5b5-4972d39532cc",
   "metadata": {},
   "outputs": [],
   "source": [
    "logit.fit(X_train_text, y_train)\n",
    "test_preds = logit.predict(X_test_text)\n",
    "test_preds_proba = logit.predict_proba(X_test_text)"
   ]
  },
  {
   "cell_type": "code",
   "execution_count": 282,
   "id": "a10890ca-6fcc-4008-8752-99a3c96c1410",
   "metadata": {},
   "outputs": [
    {
     "name": "stdout",
     "output_type": "stream",
     "text": [
      "f1: 0.7607891491985203\n",
      "f1 macro: 0.8796100642307829\n",
      "recall: 0.6743169398907104\n",
      "roc auc :0.9780870645643853\n"
     ]
    }
   ],
   "source": [
    "get_metrics(test_preds,test_preds_proba,y_test)"
   ]
  },
  {
   "cell_type": "markdown",
   "id": "0cc78e00-37bc-496e-ac22-d4765335f53c",
   "metadata": {},
   "source": [
    "## Очищенный скриптом датасет"
   ]
  },
  {
   "cell_type": "code",
   "execution_count": 283,
   "id": "c869d55e-c30a-4c4d-b136-f24b9df9c1d0",
   "metadata": {},
   "outputs": [],
   "source": [
    "df = pd.read_csv('../data/result.csv',index_col = 0)"
   ]
  },
  {
   "cell_type": "code",
   "execution_count": 284,
   "id": "0437a055-162a-4890-98cb-7a8126d93487",
   "metadata": {},
   "outputs": [
    {
     "data": {
      "text/html": [
       "<div>\n",
       "<style scoped>\n",
       "    .dataframe tbody tr th:only-of-type {\n",
       "        vertical-align: middle;\n",
       "    }\n",
       "\n",
       "    .dataframe tbody tr th {\n",
       "        vertical-align: top;\n",
       "    }\n",
       "\n",
       "    .dataframe thead th {\n",
       "        text-align: right;\n",
       "    }\n",
       "</style>\n",
       "<table border=\"1\" class=\"dataframe\">\n",
       "  <thead>\n",
       "    <tr style=\"text-align: right;\">\n",
       "      <th></th>\n",
       "      <th>name_1</th>\n",
       "      <th>name_2</th>\n",
       "      <th>is_duplicate</th>\n",
       "    </tr>\n",
       "    <tr>\n",
       "      <th>pair_id</th>\n",
       "      <th></th>\n",
       "      <th></th>\n",
       "      <th></th>\n",
       "    </tr>\n",
       "  </thead>\n",
       "  <tbody>\n",
       "    <tr>\n",
       "      <th>1</th>\n",
       "      <td>iko industries</td>\n",
       "      <td>enormous industrial trade</td>\n",
       "      <td>0</td>\n",
       "    </tr>\n",
       "    <tr>\n",
       "      <th>2</th>\n",
       "      <td>apcotex industries</td>\n",
       "      <td>technocraft industries</td>\n",
       "      <td>0</td>\n",
       "    </tr>\n",
       "    <tr>\n",
       "      <th>3</th>\n",
       "      <td>rishichem distributors</td>\n",
       "      <td>dsa</td>\n",
       "      <td>0</td>\n",
       "    </tr>\n",
       "    <tr>\n",
       "      <th>4</th>\n",
       "      <td>powermax rubber factory</td>\n",
       "      <td>one</td>\n",
       "      <td>0</td>\n",
       "    </tr>\n",
       "    <tr>\n",
       "      <th>5</th>\n",
       "      <td>tress a s</td>\n",
       "      <td>longyou industries park zhejiang</td>\n",
       "      <td>0</td>\n",
       "    </tr>\n",
       "    <tr>\n",
       "      <th>...</th>\n",
       "      <td>...</td>\n",
       "      <td>...</td>\n",
       "      <td>...</td>\n",
       "    </tr>\n",
       "    <tr>\n",
       "      <th>497815</th>\n",
       "      <td>bit mat products</td>\n",
       "      <td>the goodyear tire and rubber company</td>\n",
       "      <td>0</td>\n",
       "    </tr>\n",
       "    <tr>\n",
       "      <th>497816</th>\n",
       "      <td>bnd trading</td>\n",
       "      <td>zhong shan yue liang economy trade imp exp</td>\n",
       "      <td>0</td>\n",
       "    </tr>\n",
       "    <tr>\n",
       "      <th>497817</th>\n",
       "      <td>xeikon industrial of dongguan city</td>\n",
       "      <td>yi cheng trading of dongguan city</td>\n",
       "      <td>0</td>\n",
       "    </tr>\n",
       "    <tr>\n",
       "      <th>497818</th>\n",
       "      <td>kechuan trading</td>\n",
       "      <td>m g stationery</td>\n",
       "      <td>0</td>\n",
       "    </tr>\n",
       "    <tr>\n",
       "      <th>497819</th>\n",
       "      <td>dih wei industries</td>\n",
       "      <td>burlington industries corporate</td>\n",
       "      <td>0</td>\n",
       "    </tr>\n",
       "  </tbody>\n",
       "</table>\n",
       "<p>497819 rows × 3 columns</p>\n",
       "</div>"
      ],
      "text/plain": [
       "                                     name_1  \\\n",
       "pair_id                                       \n",
       "1                            iko industries   \n",
       "2                        apcotex industries   \n",
       "3                    rishichem distributors   \n",
       "4                   powermax rubber factory   \n",
       "5                                 tress a s   \n",
       "...                                     ...   \n",
       "497815                     bit mat products   \n",
       "497816                          bnd trading   \n",
       "497817   xeikon industrial of dongguan city   \n",
       "497818                      kechuan trading   \n",
       "497819                   dih wei industries   \n",
       "\n",
       "                                             name_2  is_duplicate  \n",
       "pair_id                                                            \n",
       "1                         enormous industrial trade             0  \n",
       "2                            technocraft industries             0  \n",
       "3                                               dsa             0  \n",
       "4                                               one             0  \n",
       "5                  longyou industries park zhejiang             0  \n",
       "...                                             ...           ...  \n",
       "497815         the goodyear tire and rubber company             0  \n",
       "497816   zhong shan yue liang economy trade imp exp             0  \n",
       "497817            yi cheng trading of dongguan city             0  \n",
       "497818                               m g stationery             0  \n",
       "497819              burlington industries corporate             0  \n",
       "\n",
       "[497819 rows x 3 columns]"
      ]
     },
     "execution_count": 284,
     "metadata": {},
     "output_type": "execute_result"
    }
   ],
   "source": [
    "df"
   ]
  },
  {
   "cell_type": "code",
   "execution_count": 285,
   "id": "8b7e4871-4956-4874-a79b-04cf2dfb9f32",
   "metadata": {},
   "outputs": [],
   "source": [
    "df['glu'] = df['name_1'] + ' ' + df['name_2']"
   ]
  },
  {
   "cell_type": "code",
   "execution_count": 286,
   "id": "8efd8683-99a3-4ec9-8a82-49bea4b053e1",
   "metadata": {},
   "outputs": [],
   "source": [
    "df = df.dropna()"
   ]
  },
  {
   "cell_type": "code",
   "execution_count": 287,
   "id": "215d72c4-afa3-4245-aed2-8d1b0c3ab3f0",
   "metadata": {},
   "outputs": [],
   "source": [
    "X_train, X_test, y_train, y_test = train_test_split(df[['glu']], df['is_duplicate'], test_size=0.25, \n",
    "                                                    random_state=42, stratify = df['is_duplicate'])\n",
    "# text_transformer = TfidfVectorizer(stop_words='english', ngram_range=(1, 2), lowercase=True, max_features=150000)\n",
    "text_transformer = TfidfVectorizer()\n",
    "X_train_text = text_transformer.fit_transform(X_train['glu'])\n",
    "X_test_text = text_transformer.transform(X_test['glu'])"
   ]
  },
  {
   "cell_type": "code",
   "execution_count": null,
   "id": "8c224c86-552d-46d4-b997-90bab8cdc452",
   "metadata": {},
   "outputs": [],
   "source": [
    "logit = LogisticRegression(C=5e1, solver='lbfgs', multi_class='ovr', random_state=42, n_jobs=4)\n",
    "skf = StratifiedKFold(n_splits=5, shuffle=True, random_state=42)\n",
    "cv_results = cross_val_score(logit, X_train_text, y_train, cv=skf, scoring='f1')"
   ]
  },
  {
   "cell_type": "code",
   "execution_count": 289,
   "id": "9035cbce-7aa1-47d9-9a60-61faf8abe437",
   "metadata": {},
   "outputs": [
    {
     "data": {
      "text/plain": [
       "(array([0.70967742, 0.73312565, 0.71635611, 0.73394495, 0.71958763]),\n",
       " 0.7225383518046427)"
      ]
     },
     "execution_count": 289,
     "metadata": {},
     "output_type": "execute_result"
    }
   ],
   "source": [
    "cv_results, cv_results.mean()"
   ]
  },
  {
   "cell_type": "code",
   "execution_count": null,
   "id": "a7dd9cc9-3bb0-4254-a2b1-13424131abf0",
   "metadata": {},
   "outputs": [],
   "source": [
    "logit.fit(X_train_text, y_train)\n",
    "test_preds = logit.predict(X_test_text)\n",
    "test_preds_proba = logit.predict_proba(X_test_text)"
   ]
  },
  {
   "cell_type": "code",
   "execution_count": 291,
   "id": "ffafb2ae-5190-4b6f-9761-4fb869d765ca",
   "metadata": {},
   "outputs": [
    {
     "name": "stdout",
     "output_type": "stream",
     "text": [
      "f1: 0.7382716049382715\n",
      "f1 macro: 0.8682748328223769\n",
      "recall: 0.6542669584245077\n",
      "roc auc :0.9686186455787411\n"
     ]
    }
   ],
   "source": [
    "get_metrics(test_preds,test_preds_proba,y_test)"
   ]
  },
  {
   "cell_type": "markdown",
   "id": "fc7cdda5-3552-401d-a29b-7791e5760025",
   "metadata": {},
   "source": [
    "## Расстояния"
   ]
  },
  {
   "cell_type": "code",
   "execution_count": 181,
   "id": "ddc60203-dbd6-473b-b9bc-fbabf4d1b4ea",
   "metadata": {},
   "outputs": [],
   "source": [
    "text_transformer = TfidfVectorizer()"
   ]
  },
  {
   "cell_type": "code",
   "execution_count": 182,
   "id": "c78d2167-2227-41b7-b41a-6e2234a802bb",
   "metadata": {},
   "outputs": [],
   "source": [
    "X_text = text_transformer.fit_transform([*df['name_1'].to_list(),*df['name_1'].to_list()])\n",
    "y = df['is_duplicate']"
   ]
  },
  {
   "cell_type": "code",
   "execution_count": 183,
   "id": "2294d852-b84d-442f-8d89-aea11f1f185b",
   "metadata": {},
   "outputs": [
    {
     "data": {
      "text/plain": [
       "((995638, 16180), (497819, 4))"
      ]
     },
     "execution_count": 183,
     "metadata": {},
     "output_type": "execute_result"
    }
   ],
   "source": [
    "X_text.shape, df.shape"
   ]
  },
  {
   "cell_type": "code",
   "execution_count": 184,
   "id": "162026e5-11a1-4544-b67c-bcbba6adfa01",
   "metadata": {},
   "outputs": [],
   "source": [
    "name_1_tf_idf = X_text[0:497819]\n",
    "name_2_tf_idf = X_text[497819:]"
   ]
  },
  {
   "cell_type": "code",
   "execution_count": 185,
   "id": "4b51c36c-7446-4560-a2bc-9b6ff70c810b",
   "metadata": {},
   "outputs": [],
   "source": [
    "df['indexes'] = df.apply(lambda x: x.name, axis = 1)"
   ]
  },
  {
   "cell_type": "code",
   "execution_count": 186,
   "id": "1b0b80d4-a3b5-48da-bc16-149a83f50ea0",
   "metadata": {},
   "outputs": [],
   "source": [
    "df['dist'] = df.apply(lambda x: cosine_similarity(name_1_tf_idf.getrow(x.indexes - 1),\n",
    "                                                  name_2_tf_idf.getrow(x.indexes - 1)), axis = 1)"
   ]
  },
  {
   "cell_type": "code",
   "execution_count": 187,
   "id": "47e8f254-c83b-4231-b90a-8fb56c714918",
   "metadata": {},
   "outputs": [],
   "source": [
    "df['dist'] = df['dist'].apply(lambda x: float(x))"
   ]
  },
  {
   "cell_type": "code",
   "execution_count": 188,
   "id": "5c8b963e-a4bb-4781-b6d2-c6bf2b0496d0",
   "metadata": {},
   "outputs": [
    {
     "data": {
      "text/plain": [
       "count    497819.000000\n",
       "mean          0.990967\n",
       "std           0.094614\n",
       "min           0.000000\n",
       "25%           1.000000\n",
       "50%           1.000000\n",
       "75%           1.000000\n",
       "max           1.000000\n",
       "Name: dist, dtype: float64"
      ]
     },
     "execution_count": 188,
     "metadata": {},
     "output_type": "execute_result"
    }
   ],
   "source": [
    "df['dist'].describe()"
   ]
  },
  {
   "cell_type": "code",
   "execution_count": 189,
   "id": "81bbf355-d47c-4d8a-a963-8a7b9370b0fb",
   "metadata": {},
   "outputs": [
    {
     "data": {
      "text/html": [
       "<div>\n",
       "<style scoped>\n",
       "    .dataframe tbody tr th:only-of-type {\n",
       "        vertical-align: middle;\n",
       "    }\n",
       "\n",
       "    .dataframe tbody tr th {\n",
       "        vertical-align: top;\n",
       "    }\n",
       "\n",
       "    .dataframe thead th {\n",
       "        text-align: right;\n",
       "    }\n",
       "</style>\n",
       "<table border=\"1\" class=\"dataframe\">\n",
       "  <thead>\n",
       "    <tr style=\"text-align: right;\">\n",
       "      <th></th>\n",
       "      <th>name_1</th>\n",
       "      <th>name_1</th>\n",
       "      <th>is_duplicate</th>\n",
       "      <th>dist</th>\n",
       "    </tr>\n",
       "    <tr>\n",
       "      <th>pair_id</th>\n",
       "      <th></th>\n",
       "      <th></th>\n",
       "      <th></th>\n",
       "      <th></th>\n",
       "    </tr>\n",
       "  </thead>\n",
       "  <tbody>\n",
       "    <tr>\n",
       "      <th>1</th>\n",
       "      <td>iko industries ltd</td>\n",
       "      <td>iko industries ltd</td>\n",
       "      <td>0</td>\n",
       "      <td>1.0</td>\n",
       "    </tr>\n",
       "    <tr>\n",
       "      <th>2</th>\n",
       "      <td>apcotex industries ltd</td>\n",
       "      <td>apcotex industries ltd</td>\n",
       "      <td>0</td>\n",
       "      <td>1.0</td>\n",
       "    </tr>\n",
       "    <tr>\n",
       "      <th>3</th>\n",
       "      <td>rishichem distributors pvt ltd</td>\n",
       "      <td>rishichem distributors pvt ltd</td>\n",
       "      <td>0</td>\n",
       "      <td>1.0</td>\n",
       "    </tr>\n",
       "    <tr>\n",
       "      <th>4</th>\n",
       "      <td>powermax rubber factory</td>\n",
       "      <td>powermax rubber factory</td>\n",
       "      <td>0</td>\n",
       "      <td>1.0</td>\n",
       "    </tr>\n",
       "    <tr>\n",
       "      <th>5</th>\n",
       "      <td>tress a s</td>\n",
       "      <td>tress a s</td>\n",
       "      <td>0</td>\n",
       "      <td>1.0</td>\n",
       "    </tr>\n",
       "    <tr>\n",
       "      <th>...</th>\n",
       "      <td>...</td>\n",
       "      <td>...</td>\n",
       "      <td>...</td>\n",
       "      <td>...</td>\n",
       "    </tr>\n",
       "    <tr>\n",
       "      <th>497815</th>\n",
       "      <td>bit mat products</td>\n",
       "      <td>bit mat products</td>\n",
       "      <td>0</td>\n",
       "      <td>1.0</td>\n",
       "    </tr>\n",
       "    <tr>\n",
       "      <th>497816</th>\n",
       "      <td>bnd trading co ltd</td>\n",
       "      <td>bnd trading co ltd</td>\n",
       "      <td>0</td>\n",
       "      <td>1.0</td>\n",
       "    </tr>\n",
       "    <tr>\n",
       "      <th>497817</th>\n",
       "      <td>xeikon industrial co ltd of dongguan city</td>\n",
       "      <td>xeikon industrial co ltd of dongguan city</td>\n",
       "      <td>0</td>\n",
       "      <td>1.0</td>\n",
       "    </tr>\n",
       "    <tr>\n",
       "      <th>497818</th>\n",
       "      <td>shanghai kechuan trading co ltd</td>\n",
       "      <td>shanghai kechuan trading co ltd</td>\n",
       "      <td>0</td>\n",
       "      <td>1.0</td>\n",
       "    </tr>\n",
       "    <tr>\n",
       "      <th>497819</th>\n",
       "      <td>dih wei industries co</td>\n",
       "      <td>dih wei industries co</td>\n",
       "      <td>0</td>\n",
       "      <td>1.0</td>\n",
       "    </tr>\n",
       "  </tbody>\n",
       "</table>\n",
       "<p>497819 rows × 4 columns</p>\n",
       "</div>"
      ],
      "text/plain": [
       "                                            name_1  \\\n",
       "pair_id                                              \n",
       "1                              iko industries ltd    \n",
       "2                          apcotex industries ltd    \n",
       "3                  rishichem distributors pvt ltd    \n",
       "4                          powermax rubber factory   \n",
       "5                                        tress a s   \n",
       "...                                            ...   \n",
       "497815                            bit mat products   \n",
       "497816                         bnd trading co ltd    \n",
       "497817   xeikon industrial co ltd of dongguan city   \n",
       "497818            shanghai kechuan trading co ltd    \n",
       "497819                      dih wei industries co    \n",
       "\n",
       "                                            name_1  is_duplicate  dist  \n",
       "pair_id                                                                 \n",
       "1                              iko industries ltd              0   1.0  \n",
       "2                          apcotex industries ltd              0   1.0  \n",
       "3                  rishichem distributors pvt ltd              0   1.0  \n",
       "4                          powermax rubber factory             0   1.0  \n",
       "5                                        tress a s             0   1.0  \n",
       "...                                            ...           ...   ...  \n",
       "497815                            bit mat products             0   1.0  \n",
       "497816                         bnd trading co ltd              0   1.0  \n",
       "497817   xeikon industrial co ltd of dongguan city             0   1.0  \n",
       "497818            shanghai kechuan trading co ltd              0   1.0  \n",
       "497819                      dih wei industries co              0   1.0  \n",
       "\n",
       "[497819 rows x 4 columns]"
      ]
     },
     "execution_count": 189,
     "metadata": {},
     "output_type": "execute_result"
    }
   ],
   "source": [
    "df[['name_1','name_1','is_duplicate','dist']]"
   ]
  },
  {
   "cell_type": "markdown",
   "id": "7fb601b2-3172-4f3d-adea-abb25a305e2c",
   "metadata": {},
   "source": [
    "## Калибровка"
   ]
  },
  {
   "cell_type": "code",
   "execution_count": null,
   "id": "4340fb3c-d84f-43aa-9371-5b676a5269b1",
   "metadata": {},
   "outputs": [],
   "source": []
  }
 ],
 "metadata": {
  "kernelspec": {
   "display_name": "Python 3 (ipykernel)",
   "language": "python",
   "name": "python3"
  },
  "language_info": {
   "codemirror_mode": {
    "name": "ipython",
    "version": 3
   },
   "file_extension": ".py",
   "mimetype": "text/x-python",
   "name": "python",
   "nbconvert_exporter": "python",
   "pygments_lexer": "ipython3",
   "version": "3.9.7"
  }
 },
 "nbformat": 4,
 "nbformat_minor": 5
}
